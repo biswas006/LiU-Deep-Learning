{
  "nbformat": 4,
  "nbformat_minor": 0,
  "metadata": {
    "kernelspec": {
      "display_name": "Python 3",
      "language": "python",
      "name": "python3"
    },
    "language_info": {
      "codemirror_mode": {
        "name": "ipython",
        "version": 3
      },
      "file_extension": ".py",
      "mimetype": "text/x-python",
      "name": "python",
      "nbconvert_exporter": "python",
      "pygments_lexer": "ipython3",
      "version": "3.7.7"
    },
    "colab": {
      "name": "RNN_Lab_GPU.ipynb",
      "provenance": [],
      "collapsed_sections": [],
      "toc_visible": true
    },
    "accelerator": "GPU"
  },
  "cells": [
    {
      "cell_type": "markdown",
      "metadata": {
        "id": "C8qUzsUve-bY",
        "colab_type": "text"
      },
      "source": [
        "# Part-of-Speech Tagging with Recurrent Neural Networks"
      ]
    },
    {
      "cell_type": "markdown",
      "metadata": {
        "id": "MlFPgOnBe-ba",
        "colab_type": "text"
      },
      "source": [
        "Your task in this assignment is to implement a simple part-of-speech tagger based on recurrent neural networks."
      ]
    },
    {
      "cell_type": "markdown",
      "metadata": {
        "id": "ZvE8ZZvoe-bb",
        "colab_type": "text"
      },
      "source": [
        "## Get a graphics card"
      ]
    },
    {
      "cell_type": "code",
      "metadata": {
        "id": "1PoJtUk6e-bc",
        "colab_type": "code",
        "colab": {}
      },
      "source": [
        "import os\n",
        "import warnings\n",
        "\n",
        "# Ignore FutureWarning from numpy\n",
        "warnings.simplefilter(action='ignore', category=FutureWarning)\n",
        "\n",
        "import keras.backend as K\n",
        "import tensorflow as tf\n",
        "\n",
        "os.environ[\"CUDA_DEVICE_ORDER\"]=\"PCI_BUS_ID\";\n",
        " \n",
        "# The GPU id to use, usually either \"0\" or \"1\";\n",
        "os.environ[\"CUDA_VISIBLE_DEVICES\"]=\"0\";\n",
        "\n",
        "# Allow growth of GPU memory, otherwise it will always look like all the memory is being used\n",
        "physical_devices = tf.config.experimental.list_physical_devices('GPU')\n",
        "tf.config.experimental.set_memory_growth(physical_devices[0], True) "
      ],
      "execution_count": 0,
      "outputs": []
    },
    {
      "cell_type": "markdown",
      "metadata": {
        "id": "zv35Ew-Ge-bg",
        "colab_type": "text"
      },
      "source": [
        "## Problem specification"
      ]
    },
    {
      "cell_type": "markdown",
      "metadata": {
        "id": "68QvZQfEe-bh",
        "colab_type": "text"
      },
      "source": [
        "Your task in this assignment is\n",
        "\n",
        "1. to build a part-of-speech tagger based on a recurrent neural network architecture\n",
        "2. to train this tagger on the provided training data and identify a good model\n",
        "2. to evaluate the performance of this model on the provided test data\n",
        "\n",
        "To identify a good model, you can use the provided development (validation) data."
      ]
    },
    {
      "cell_type": "markdown",
      "metadata": {
        "id": "apkORvKTe-bi",
        "colab_type": "text"
      },
      "source": [
        "## Part-of-speech tagging"
      ]
    },
    {
      "cell_type": "markdown",
      "metadata": {
        "id": "FbWh2sVie-bj",
        "colab_type": "text"
      },
      "source": [
        "Part-of-speech (POS) tagging is the task of labelling words (tokens) with [parts of speech](https://en.wikipedia.org/wiki/Part_of_speech). To give an example, consider the  sentence *Parker hates parsnips*. In this sentence, the word *Parker* should be labelled as a proper noun (a noun that is the name of a person), *hates* should be labelled as a verb, and *parsnips* should be labelled as a (common) noun. Part-of-speech tagging is an essential ingredient of many state-of-the-art natural language understanding systems.\n",
        "\n",
        "Part-of-speech tagging can be cast as a supervised machine learning problem where the gold-standard data consists of sentences whose words have been manually annotated with parts of speech. For the present assignment you will be using a corpus built over the source material of the [English Web Treebank](https://catalog.ldc.upenn.edu/ldc2012t13), consisting of approximately 16,000&nbsp;sentences with 254,000&nbsp;tokens. The corpus has been released by the [Universal Dependencies Project](http://universaldependencies.org).\n",
        "\n",
        "To make it easier to compare systems, the gold-standard data has been split into three parts: training, development (validation), and test. The following cell provides a function that can be used to load the data."
      ]
    },
    {
      "cell_type": "code",
      "metadata": {
        "id": "YoFfvbO_e-bj",
        "colab_type": "code",
        "colab": {}
      },
      "source": [
        "def read_data(path):\n",
        "    with open(path, encoding='utf-8') as fp:\n",
        "        result = []\n",
        "        for line in fp:\n",
        "            line = line.rstrip()\n",
        "            if len(line) == 0:\n",
        "                yield result\n",
        "                result = []\n",
        "            elif not line.startswith('#'):\n",
        "                columns = line.split()\n",
        "                if columns[0].isdigit():\n",
        "                    result.append((columns[1], columns[3]))"
      ],
      "execution_count": 0,
      "outputs": []
    },
    {
      "cell_type": "markdown",
      "metadata": {
        "id": "vTgSn0-Fe-bo",
        "colab_type": "text"
      },
      "source": [
        "The next cell loads the data:"
      ]
    },
    {
      "cell_type": "code",
      "metadata": {
        "id": "45betyCVmA25",
        "colab_type": "code",
        "outputId": "a667de03-2d9a-4b51-cb5f-e704c987ac2a",
        "colab": {
          "base_uri": "https://localhost:8080/",
          "height": 35
        }
      },
      "source": [
        "from google.colab import drive\n",
        "drive.mount('/content/drive')"
      ],
      "execution_count": 109,
      "outputs": [
        {
          "output_type": "stream",
          "text": [
            "Drive already mounted at /content/drive; to attempt to forcibly remount, call drive.mount(\"/content/drive\", force_remount=True).\n"
          ],
          "name": "stdout"
        }
      ]
    },
    {
      "cell_type": "code",
      "metadata": {
        "id": "qn3jBFHAe-bp",
        "colab_type": "code",
        "outputId": "c7ad6a1c-b103-4570-b66e-9360e9e73a33",
        "colab": {
          "base_uri": "https://localhost:8080/",
          "height": 70
        }
      },
      "source": [
        "train_data = list(read_data('/content/drive/My Drive/RNN/en_ewt-ud-train.conllu'))\n",
        "print('Number of sentences in the training data: {}'.format(len(train_data)))\n",
        "\n",
        "dev_data = list(read_data('/content/drive/My Drive/RNN/en_ewt-ud-dev.conllu'))\n",
        "print('Number of sentences in the development data: {}'.format(len(dev_data)))\n",
        "\n",
        "test_data = list(read_data('/content/drive/My Drive/RNN/en_ewt-ud-test.conllu'))\n",
        "print('Number of sentences in the test data: {}'.format(len(test_data)))"
      ],
      "execution_count": 110,
      "outputs": [
        {
          "output_type": "stream",
          "text": [
            "Number of sentences in the training data: 12543\n",
            "Number of sentences in the development data: 2002\n",
            "Number of sentences in the test data: 2077\n"
          ],
          "name": "stdout"
        }
      ]
    },
    {
      "cell_type": "markdown",
      "metadata": {
        "id": "9fjge5sde-bt",
        "colab_type": "text"
      },
      "source": [
        "From a Python perspective, each of the data sets is a list of what we shall refer to as *tagged sentences*. A tagged sentence, in turn, is a list of pairs $(w,t)$, where $w$ is a word token and $t$ is the word&rsquo;s POS tag. Here is an example from the training data to show you how this looks like:"
      ]
    },
    {
      "cell_type": "code",
      "metadata": {
        "id": "GCKlm6yRe-bt",
        "colab_type": "code",
        "outputId": "182221d2-36f0-4194-dbd1-4812b7d9c08e",
        "colab": {
          "base_uri": "https://localhost:8080/",
          "height": 248
        }
      },
      "source": [
        "train_data[42]"
      ],
      "execution_count": 111,
      "outputs": [
        {
          "output_type": "execute_result",
          "data": {
            "text/plain": [
              "[('There', 'PRON'),\n",
              " ('has', 'AUX'),\n",
              " ('been', 'VERB'),\n",
              " ('talk', 'NOUN'),\n",
              " ('that', 'SCONJ'),\n",
              " ('the', 'DET'),\n",
              " ('night', 'NOUN'),\n",
              " ('curfew', 'NOUN'),\n",
              " ('might', 'AUX'),\n",
              " ('be', 'AUX'),\n",
              " ('implemented', 'VERB'),\n",
              " ('again', 'ADV'),\n",
              " ('.', 'PUNCT')]"
            ]
          },
          "metadata": {
            "tags": []
          },
          "execution_count": 111
        }
      ]
    },
    {
      "cell_type": "markdown",
      "metadata": {
        "id": "r4se6Rv1e-by",
        "colab_type": "text"
      },
      "source": [
        "You will see part-of-speech tags such as `VERB` for verb, `NOUN` for noun, and `ADV` for adverb. If you are interested in learning more about the tag set used in the gold-standard data, you can have a look at the documentation of the [Universal POS tags](http://universaldependencies.org/u/pos/all.html). However, you do not need to understand the meaning of the POS tags to solve this assignment; you can simply treat them as labels drawn from a finite set of alternatives."
      ]
    },
    {
      "cell_type": "markdown",
      "metadata": {
        "id": "kBcH4yYUe-bz",
        "colab_type": "text"
      },
      "source": [
        "## Network architecture"
      ]
    },
    {
      "cell_type": "markdown",
      "metadata": {
        "id": "Blh-OMIqe-b0",
        "colab_type": "text"
      },
      "source": [
        "The proposed network architecture for your tagger is a sequential model with three layers, illustrated below: an embedding, a bidirectional LSTM, and a softmax layer. The embedding turns word indexes (integers representing words) into fixed-size dense vectors which are then fed into the bidirectional LSTM. The output of the LSTM at each position of the sentence is passed to a softmax layer which predicts the POS tag for the word at that position.\n",
        "\n",
        "![architecture.png](attachment:architecture.png)\n",
        "\n",
        "To implement the network architecture, you will use [Keras](https://keras.io/). Keras comes with an extensive online documentation, and reading the relevant parts of this documentation will be essential when working on this assignment. We suggest to start with the tutorial [Getting started with the Keras Sequential model](https://keras.io/getting-started/sequential-model-guide/). After that, you should have a look at some of the examples mentioned in that tutorial, and in particular the [Bidirectional LSTM](https://keras.io/examples/imdb_bidirectional_lstm/) example."
      ]
    },
    {
      "cell_type": "markdown",
      "metadata": {
        "id": "KUEIKejGe-b0",
        "colab_type": "text"
      },
      "source": [
        "## Evaluation"
      ]
    },
    {
      "cell_type": "markdown",
      "metadata": {
        "id": "aUhGN8qxe-b2",
        "colab_type": "text"
      },
      "source": [
        "The most widely-used evaluation measure for part-of-speech tagging is per-word accuracy, which is the percentage of words to which the tagger assigns the correct tag (according to the gold standard). This is one of the default metrics in Keras.\n",
        "\n",
        "One problem that you will encounter during evaluation is that the evaluation data contains words that you did not see (and did not add to your index) during training. The simplest solution to this problem is to introduce a special &lsquo;word&rsquo; `<unk>` and replace each unknown word with this pseudoword."
      ]
    },
    {
      "cell_type": "markdown",
      "metadata": {
        "id": "g9OHmQTse-b4",
        "colab_type": "text"
      },
      "source": [
        "## Part 1: Pre-process the data"
      ]
    },
    {
      "cell_type": "markdown",
      "metadata": {
        "id": "xVyiSTlee-b5",
        "colab_type": "text"
      },
      "source": [
        "Before you can start to implement the network architecture as such, you will have to bring the tagged sentences from the gold-standard data into a form that can be used with the network. One important step in this is to map the words and tags (strings) to integers. Here is code that illustrates the idea:"
      ]
    },
    {
      "cell_type": "code",
      "metadata": {
        "id": "6-Mft8yDe-b6",
        "colab_type": "code",
        "outputId": "a70c8a88-d750-4f6c-ab8a-416831c9148a",
        "colab": {
          "base_uri": "https://localhost:8080/",
          "height": 52
        }
      },
      "source": [
        "word_to_index = {}\n",
        "for tagged_sentence in train_data:\n",
        "    for word, tag in tagged_sentence:\n",
        "        if word not in word_to_index:\n",
        "            word_to_index[word] = len(word_to_index)\n",
        "\n",
        "print('Number of unique words in the training data: {}'.format(len(word_to_index)))\n",
        "print('Index of the word \"hates\": {}'.format(word_to_index['hates']))"
      ],
      "execution_count": 112,
      "outputs": [
        {
          "output_type": "stream",
          "text": [
            "Number of unique words in the training data: 19672\n",
            "Index of the word \"hates\": 4579\n"
          ],
          "name": "stdout"
        }
      ]
    },
    {
      "cell_type": "markdown",
      "metadata": {
        "id": "6IcTwf5Ze-b9",
        "colab_type": "text"
      },
      "source": [
        "Once you have indexes for the words and the tags, you can construct the input and the gold-standard output tensor required to train the network.\n",
        "\n",
        "### Constructing the input tensor\n",
        "\n",
        "The input tensor should be of shape $(N, n)$ where $N$ is the total number of sentences in the training data and $n$ is the length of the longest sentence. Note that Keras requires all sequences in an input tensor to have the same length, which means that you will have to pad all sequences to that length. You can use the helper function [`pad_sequences`](https://www.tensorflow.org/api_docs/python/tf/keras/preprocessing/sequence/pad_sequences) for this, which by default will front-pad sequences with the value&nbsp;0. It is essential then that you do not use this special padding value as the index of actual words.\n",
        "\n",
        "### Constructing the target output tensor\n",
        "\n",
        "The target output tensor should be of shape $(N, n, T)$ where $T$ is the number of unique tags in the training data, plus one to cater for the special padding value. The additional dimension corresponds to the fact that the softmax layer of the network will output one $T$-dimensional vector for each position of an input sentence. To construct this vector, you can use the helper function [`to_categorical`](https://www.tensorflow.org/api_docs/python/tf/keras/utils/to_categorical)."
      ]
    },
    {
      "cell_type": "code",
      "metadata": {
        "id": "iTOcRi6we-b-",
        "colab_type": "code",
        "outputId": "6fd5dccf-937f-4cab-d9bc-8bb1dc75112e",
        "colab": {
          "base_uri": "https://localhost:8080/",
          "height": 52
        }
      },
      "source": [
        "# Define a help function to build index from a list of words or tags, each word / tag will have a unique number\n",
        "def build_index(strings, init=[]):\n",
        "    string_to_index = {s: i for i, s in enumerate(init)}\n",
        "    # Loop over strings in 'strings'\n",
        "    for strng in strings:\n",
        "        # Check if string exists in variable 'string_to_index', \n",
        "        if strng in string_to_index:\n",
        "         None\n",
        "        # if string does not exist, add a new element to 'string_to_index': the current length of 'string_to_index'\n",
        "        else :\n",
        "           string_to_index[strng]=len(string_to_index)\n",
        "    return string_to_index\n",
        "        \n",
        "# Convert all words and tags in train_data to lists, start with empty lists and use '.append()' \n",
        "# to add one word / tag at a time, similar to the cell below 'pre-process the data'\n",
        "words, tags = [], []\n",
        "word_to_index = {}\n",
        "for tagged_sentence in train_data:\n",
        "    for word, tag in tagged_sentence:\n",
        "        words.append(word)\n",
        "        tags.append(tag)\n",
        "# Call the help function you made, to build an index for words (word_to_index), and one index for tags (tag_to_index)\n",
        "word_to_index = build_index(words, init=['<pad>', '<unk>'])\n",
        "tag_to_index = build_index(tags, init=['<pad>'])\n",
        "# Check number of words and tags\n",
        "num_words = len(word_to_index)\n",
        "num_tags = len(tag_to_index)\n",
        "\n",
        "print(f'Number of unique words in the training data: {num_words}')\n",
        "print(f'Number of unique tags in the training_data: {num_tags}')"
      ],
      "execution_count": 113,
      "outputs": [
        {
          "output_type": "stream",
          "text": [
            "Number of unique words in the training data: 19674\n",
            "Number of unique tags in the training_data: 18\n"
          ],
          "name": "stdout"
        }
      ]
    },
    {
      "cell_type": "code",
      "metadata": {
        "id": "t5bOvnKLe-cB",
        "colab_type": "code",
        "outputId": "f5bb24b1-6c46-4b33-e41b-1c62d36cad72",
        "colab": {
          "base_uri": "https://localhost:8080/",
          "height": 35
        }
      },
      "source": [
        "from tensorflow.keras.preprocessing.sequence import pad_sequences\n",
        "from tensorflow.keras.utils import to_categorical\n",
        "\n",
        "\n",
        "# Make a function that converts the tagged sentences, word indices and tag indices to \n",
        "# X and Y, that can be used when training the RNN\n",
        "def encode(tagged_sentences, word_to_index, tag_to_index):\n",
        "    \n",
        "    # Start with empty lists that will contain all training examples and corresponding output\n",
        "    X, Y = [], []\n",
        " \n",
        "    # Loop over tagged sentences\n",
        "    for sentence in tagged_sentences:\n",
        "     \n",
        "       Xcurrent, Ycurrent = [], []\n",
        "        \n",
        "       for word, tag in sentence:\n",
        "         Xcurrent.append(word_to_index[word] if word in word_to_index else  word_to_index['<unk>']) \n",
        "\n",
        "         Ycurrent.append(tag_to_index[tag])\n",
        "       X.append(Xcurrent)\n",
        "       Y.append(Ycurrent)\n",
        "   \n",
        "    X = pad_sequences(X)\n",
        "    Y = pad_sequences(Y)\n",
        "   \n",
        "    Y = to_categorical(Y) \n",
        "\n",
        "    return X, Y\n",
        "       \n",
        "# Use your 'encode' function to create X and Y from train_data, word_to_index, tag_to_index\n",
        "\n",
        "res=encode(train_data, word_to_index, tag_to_index)\n",
        "X_train=res[0]\n",
        "Y_train=res[1]\n",
        "# Print the shape of X and Y\n",
        "print (X_train.shape,Y_train.shape)\n"
      ],
      "execution_count": 114,
      "outputs": [
        {
          "output_type": "stream",
          "text": [
            "(12543, 159) (12543, 159, 18)\n"
          ],
          "name": "stdout"
        }
      ]
    },
    {
      "cell_type": "markdown",
      "metadata": {
        "id": "K5gedpqbe-cE",
        "colab_type": "text"
      },
      "source": [
        "## Part 2: Construct the model"
      ]
    },
    {
      "cell_type": "markdown",
      "metadata": {
        "id": "v9Cm3q87e-cF",
        "colab_type": "text"
      },
      "source": [
        "To implement the network architecture, you need to find and instantiate the relevant building blocks from the Keras library. Note that Keras layers support a large number of optional parameters; use the default values unless you have a good reason not to. Two mandatory parameters that you will have to specify are the dimensionality of the embedding and the dimensionality of the output of the LSTM layer. The following values are reasonable starting points, but do try a number of different settings.\n",
        "\n",
        "* dimensionality of the embedding: 100\n",
        "* dimensionality of the output of the bidirectional LSTM layer: 100\n",
        "\n",
        "You will also have to choose an appropriate loss function. For training we recommend the Adam optimiser."
      ]
    },
    {
      "cell_type": "code",
      "metadata": {
        "id": "E0c0e1s7e-cG",
        "colab_type": "code",
        "outputId": "b4ee90eb-f9ec-4a5b-f813-2193edcde45d",
        "colab": {
          "base_uri": "https://localhost:8080/",
          "height": 301
        }
      },
      "source": [
        "from tensorflow.keras import Sequential,Model\n",
        "#from keras.models import Sequential, Model\n",
        "# Import necessary layers\n",
        "from tensorflow.keras.layers import LSTM, Embedding,Bidirectional,Activation,Dense\n",
        "from numpy.random import seed\n",
        "from keras.optimizers import Adam\n",
        "from keras.losses import categorical_crossentropy\n",
        "seed(123)\n",
        "\n",
        "embedding_dim = 100\n",
        "hidden_dim = 100\n",
        "input_shape=len(word_to_index)\n",
        "\n",
        "# Build model (for easy to use for different input parameters )\n",
        "def build_RNN(input_shape,hidden_dim,embedding_dim):\n",
        "# Create model, similar to how it was done in the DNN and CNN labs\n",
        "\n",
        "  model = Sequential()\n",
        "\n",
        "  # The model should have an embedding layer, a bidirectional LSTM, and a dense softmax layer \n",
        "  model.add(Embedding(input_dim=input_shape,output_dim=embedding_dim))\n",
        "\n",
        "  model.add(Bidirectional(LSTM(hidden_dim,return_sequences=True)))\n",
        "  model.add(Dense(18))\n",
        "  model.add(Activation('softmax'))\n",
        "\n",
        "  # (see the network architecture image)\n",
        "\n",
        "  # Compile model\n",
        "  model.compile(loss='categorical_crossentropy', optimizer='adam',metrics=['accuracy'])\n",
        "  return model\n",
        "# Print a summary of the model\n",
        "model=build_RNN(input_shape,hidden_dim,embedding_dim)\n",
        "model.summary()\n",
        "\n"
      ],
      "execution_count": 125,
      "outputs": [
        {
          "output_type": "stream",
          "text": [
            "Model: \"sequential_7\"\n",
            "_________________________________________________________________\n",
            "Layer (type)                 Output Shape              Param #   \n",
            "=================================================================\n",
            "embedding_7 (Embedding)      (None, None, 100)         1967400   \n",
            "_________________________________________________________________\n",
            "bidirectional_7 (Bidirection (None, None, 200)         160800    \n",
            "_________________________________________________________________\n",
            "dense_7 (Dense)              (None, None, 18)          3618      \n",
            "_________________________________________________________________\n",
            "activation_7 (Activation)    (None, None, 18)          0         \n",
            "=================================================================\n",
            "Total params: 2,131,818\n",
            "Trainable params: 2,131,818\n",
            "Non-trainable params: 0\n",
            "_________________________________________________________________\n"
          ],
          "name": "stdout"
        }
      ]
    },
    {
      "cell_type": "code",
      "metadata": {
        "id": "qkCNIwTCof_H",
        "colab_type": "code",
        "colab": {
          "base_uri": "https://localhost:8080/",
          "height": 35
        },
        "outputId": "6707fcc9-dce8-486a-e39d-a9ae3d237ea5"
      },
      "source": [
        "len(word_to_index)"
      ],
      "execution_count": 123,
      "outputs": [
        {
          "output_type": "execute_result",
          "data": {
            "text/plain": [
              "19674"
            ]
          },
          "metadata": {
            "tags": []
          },
          "execution_count": 123
        }
      ]
    },
    {
      "cell_type": "markdown",
      "metadata": {
        "id": "8lgCW2uIe-cM",
        "colab_type": "text"
      },
      "source": [
        "## Part 3: Train the network"
      ]
    },
    {
      "cell_type": "markdown",
      "metadata": {
        "id": "-NsJCOUoe-cM",
        "colab_type": "text"
      },
      "source": [
        "The next step is to train the network. Use the following parameters:\n",
        "\n",
        "* number of epochs: 10\n",
        "* batch size: 32\n",
        "\n",
        "Training will print the average running loss on the training data after each minibatch. In addition to that, we ask you to also print the loss and accuracy on the development data after each epoch. You can do so by providing the `validation_data` argument to the `fit` method.\n",
        "\n",
        "Note that the `fit` method returns a [`History`](https://keras.io/callbacks/#history) object that contains useful information about the training. We will use that information in the next step."
      ]
    },
    {
      "cell_type": "code",
      "metadata": {
        "id": "P924rLWhkUHx",
        "colab_type": "code",
        "colab": {}
      },
      "source": [
        "# Encode the development (validation data) using the 'encode' function you created before\n",
        "\n",
        "\n",
        "\n",
        "dev_X,dev_Y=encode(dev_data, word_to_index, tag_to_index)\n"
      ],
      "execution_count": 0,
      "outputs": []
    },
    {
      "cell_type": "code",
      "metadata": {
        "id": "f9gTeGpCe-cN",
        "colab_type": "code",
        "outputId": "ab02bc13-7eb7-4ba3-9cda-5cc2b880c05b",
        "colab": {
          "base_uri": "https://localhost:8080/",
          "height": 372
        }
      },
      "source": [
        "\n",
        "# Train the model and save the history, as you did in the DNN and CNN labs, provide validation data\n",
        "\n",
        "history1 = model.fit(X_train,Y_train,batch_size=32,epochs=10,verbose=2,validation_data=(dev_X,dev_Y))\n"
      ],
      "execution_count": 117,
      "outputs": [
        {
          "output_type": "stream",
          "text": [
            "Epoch 1/10\n",
            "392/392 - 35s - loss: 0.3103 - accuracy: 0.9186 - val_loss: 0.2376 - val_accuracy: 0.9323\n",
            "Epoch 2/10\n",
            "392/392 - 34s - loss: 0.0641 - accuracy: 0.9831 - val_loss: 0.0684 - val_accuracy: 0.9802\n",
            "Epoch 3/10\n",
            "392/392 - 34s - loss: 0.0221 - accuracy: 0.9942 - val_loss: 0.0557 - val_accuracy: 0.9828\n",
            "Epoch 4/10\n",
            "392/392 - 34s - loss: 0.0140 - accuracy: 0.9960 - val_loss: 0.0543 - val_accuracy: 0.9835\n",
            "Epoch 5/10\n",
            "392/392 - 34s - loss: 0.0106 - accuracy: 0.9969 - val_loss: 0.0557 - val_accuracy: 0.9837\n",
            "Epoch 6/10\n",
            "392/392 - 34s - loss: 0.0084 - accuracy: 0.9975 - val_loss: 0.0563 - val_accuracy: 0.9839\n",
            "Epoch 7/10\n",
            "392/392 - 34s - loss: 0.0067 - accuracy: 0.9980 - val_loss: 0.0596 - val_accuracy: 0.9839\n",
            "Epoch 8/10\n",
            "392/392 - 34s - loss: 0.0055 - accuracy: 0.9984 - val_loss: 0.0613 - val_accuracy: 0.9837\n",
            "Epoch 9/10\n",
            "392/392 - 34s - loss: 0.0044 - accuracy: 0.9987 - val_loss: 0.0674 - val_accuracy: 0.9834\n",
            "Epoch 10/10\n",
            "392/392 - 34s - loss: 0.0035 - accuracy: 0.9990 - val_loss: 0.0640 - val_accuracy: 0.9840\n"
          ],
          "name": "stdout"
        }
      ]
    },
    {
      "cell_type": "markdown",
      "metadata": {
        "id": "W7TOirfoe-cQ",
        "colab_type": "text"
      },
      "source": [
        "## Part 4: Identify a good model"
      ]
    },
    {
      "cell_type": "markdown",
      "metadata": {
        "id": "1wtAE59Le-cQ",
        "colab_type": "text"
      },
      "source": [
        "The following code will plot the loss on the training data and the loss on the validation data after each epoch:"
      ]
    },
    {
      "cell_type": "code",
      "metadata": {
        "id": "Dj_MPKFpe-cR",
        "colab_type": "code",
        "colab": {}
      },
      "source": [
        "# Lets define a help function for plotting the training results\n",
        "import matplotlib.pyplot as plt\n",
        "\n",
        "def plot_results(history):\n",
        "    \n",
        "    val_loss = history.history['val_loss']\n",
        "    acc = history.history['accuracy']\n",
        "    loss = history.history['loss']\n",
        "    val_acc = history.history['val_accuracy']\n",
        "    \n",
        "    plt.figure(figsize=(10,4))\n",
        "    plt.xlabel('Epochs')\n",
        "    plt.ylabel('Loss')\n",
        "    plt.plot(loss)\n",
        "    plt.plot(val_loss)\n",
        "    plt.legend(['Training','Validation'])\n",
        "\n",
        "    plt.figure(figsize=(10,4))\n",
        "    plt.xlabel('Epochs')\n",
        "    plt.ylabel('Accuracy')\n",
        "    plt.plot(acc)\n",
        "    plt.plot(val_acc)\n",
        "    plt.legend(['Training','Validation'])\n",
        "\n",
        "    plt.show()"
      ],
      "execution_count": 0,
      "outputs": []
    },
    {
      "cell_type": "code",
      "metadata": {
        "id": "I6jOx2sIe-cW",
        "colab_type": "code",
        "colab": {
          "base_uri": "https://localhost:8080/",
          "height": 541
        },
        "outputId": "9bbfcdb6-0676-4b08-c97e-20fe2ba7186c"
      },
      "source": [
        "plot_results(history0)"
      ],
      "execution_count": 119,
      "outputs": [
        {
          "output_type": "display_data",
          "data": {
            "image/png": "[encoded data removed]",
            "text/plain": [
              "<Figure size 720x288 with 1 Axes>"
            ]
          },
          "metadata": {
            "tags": [],
            "needs_background": "light"
          }
        },
        {
          "output_type": "display_data",
          "data": {
            "image/png": "[encoded data removed]",
            "text/plain": [
              "<Figure size 720x288 with 1 Axes>"
            ]
          },
          "metadata": {
            "tags": [],
            "needs_background": "light"
          }
        }
      ]
    },
    {
      "cell_type": "markdown",
      "metadata": {
        "id": "gZ4xD7-Ae-cb",
        "colab_type": "text"
      },
      "source": [
        "Look at the plot and determine the epoch after which the model starts to overfit. Then, re-train your model using that many epochs and compute the accuracy of the tagger on the test data."
      ]
    },
    {
      "cell_type": "code",
      "metadata": {
        "id": "kL3VOc1Je-cb",
        "colab_type": "code",
        "colab": {
          "base_uri": "https://localhost:8080/",
          "height": 70
        },
        "outputId": "dcdb5250-6afc-4763-ab32-c43d1894ef22"
      },
      "source": [
        "# Encode the test_data using the 'encode' function you created before\n",
        "test_X,test_Y=encode(test_data, word_to_index, tag_to_index)\n",
        "\n",
        "# Evaluate the model on test data, as you did in the DNN and CNN lab\n",
        "score = model.evaluate(test_X,test_Y,batch_size=32) \n",
        "print('Test loss: %.4f' % score[0])\n",
        "print('Test accuracy: %.4f' % score[1])\n",
        "\n"
      ],
      "execution_count": 120,
      "outputs": [
        {
          "output_type": "stream",
          "text": [
            "65/65 [==============================] - 1s 15ms/step - loss: 0.0545 - accuracy: 0.9862\n",
            "Test loss: 0.0545\n",
            "Test accuracy: 0.9862\n"
          ],
          "name": "stdout"
        }
      ]
    },
    {
      "cell_type": "code",
      "metadata": {
        "id": "_4dAittcclc1",
        "colab_type": "code",
        "colab": {
          "base_uri": "https://localhost:8080/",
          "height": 141
        },
        "outputId": "be81ed87-86b8-4a92-c4fc-6ac7247c57f7"
      },
      "source": [
        "# Train the model and save the history, for epoch =2, after which model starts overfitting\n",
        "model1=build_RNN(input_shape,hidden_dim=100,embedding_dim=20) \n",
        "# embedding dim=20 gets us 91 % accuracy which is better as earlier our model was obverfitting with 98% (embedding dim=100)\n",
        "history1 = model1.fit(X_train,Y_train,batch_size=32,epochs=2,verbose=2,validation_data=(dev_X,dev_Y))\n",
        "# Evaluate the best model on test data\n",
        "score = model1.evaluate(test_X,test_Y,batch_size=32) \n",
        "print('Test loss: %.4f' % score[0])\n",
        "print('Test accuracy: %.4f' % score[1])"
      ],
      "execution_count": 136,
      "outputs": [
        {
          "output_type": "stream",
          "text": [
            "Epoch 1/2\n",
            "392/392 - 30s - loss: 0.3695 - accuracy: 0.9045 - val_loss: 0.4293 - val_accuracy: 0.8581\n",
            "Epoch 2/2\n",
            "392/392 - 29s - loss: 0.2430 - accuracy: 0.9233 - val_loss: 0.3408 - val_accuracy: 0.8911\n",
            "65/65 [==============================] - 1s 15ms/step - loss: 0.3054 - accuracy: 0.9026\n",
            "Test loss: 0.3054\n",
            "Test accuracy: 0.9026\n"
          ],
          "name": "stdout"
        }
      ]
    },
    {
      "cell_type": "markdown",
      "metadata": {
        "id": "LIrylWg8e-cg",
        "colab_type": "text"
      },
      "source": [
        "## Submission"
      ]
    },
    {
      "cell_type": "markdown",
      "metadata": {
        "id": "LRo_nn-ie-cg",
        "colab_type": "text"
      },
      "source": [
        "Your notebook should include all your code, and should be runnable without further modification. It should also include answers to the following questions:\n",
        "\n",
        "How many epochs did you train the final model for?\n",
        "\n",
        "Answer : 2 epochs\n",
        "\n",
        "What accuracy did you achieve on the test data?\n",
        "\n",
        "Answer : In the range of 91% (avoided overfitting)\n",
        "\n",
        "What dimensionality of the embedding did you use for your best results?\n",
        "\n",
        "Answer : 20\n",
        "\n",
        "What dimensionality of the output of the bidirectional LSTM layer did you use for your best results?\n",
        "\n",
        "Answer : 100\n",
        "\n",
        "Instead of manually identifying a good model, and redoing the training to that number of epochs, how can you automatically stop the training when the validation performance does not improve anymore? Hint: see Lecture 2\n",
        "\n",
        "Answer: It can be done by \"Early stopping\" regularization technique.\n",
        "\n",
        "What did you find particularly surprising or hard?\n",
        "\n",
        "Answer :High accuracy of the model for the given setting was very surprising as it was too much overfitting.  \n",
        "\n",
        "How do you calculate the number of parameters in the embedding layer? Hint: the calculation includes the vocabulary size and the embedding dimension\n",
        "\n",
        "Answer : \n",
        "\n",
        "We have :\n",
        "h= 100 ( hidden dimesion)\n",
        "i= len(word_to_index) = 19674\n",
        "num_params = h Xi = 1967400\n",
        "\n",
        "How do you calculate the number of parameters in the bidirectional LSTM layer? Hint: A LSTM layer has 4 parts; cell, input gate, output gate, forget gate, each part contains two weight matrices and a bias vector. A bidirectional LSTM contains two LSTMs.\n",
        "\n",
        "Answer: 4 * ((size of input +1) * size of output + size of output ^2)\n",
        "       \n",
        "\n",
        "https://en.wikipedia.org/wiki/Long_short-term_memory"
      ]
    },
    {
      "cell_type": "markdown",
      "metadata": {
        "id": "EoHmV5yke-ch",
        "colab_type": "text"
      },
      "source": [
        "*Insert your answers here.*"
      ]
    },
    {
      "cell_type": "markdown",
      "metadata": {
        "id": "KjT4CEGOe-ci",
        "colab_type": "text"
      },
      "source": [
        "## Ethics in deep learning\n",
        "\n",
        "Now that you have watched the 5 lectures, and completed the 3 laborations in this course, what do you think is the most important ethical question related to deep learning? Motivate your answer.\n",
        "\n"
      ]
    },
    {
      "cell_type": "markdown",
      "metadata": {
        "id": "bTuB-MNge-ci",
        "colab_type": "text"
      },
      "source": [
        "*Insert your answer here.*"
      ]
    },
    {
      "cell_type": "markdown",
      "metadata": {
        "id": "6JDObArfnezF",
        "colab_type": "text"
      },
      "source": [
        "The most important ethical questions that we understand is:\n",
        " How are the models that we design are going to effect others? What will be the ramifications ?\n",
        " This is because the output of the system is based on the design of the model. Eventually, it will depend on :\n",
        "\n",
        "        1.  Type of errors that we obtain from the model, If it is a False positive or False negative and their outcomes. \n",
        "\n",
        "        2. Usage of model in other than unintended ways also plays important role.  \n",
        "\n",
        "        3. Bias in the network, depends on the training data that we use.As a consequence, the model may have hidden bias which in turn effects the performance, with  nwelcome results and consequences. "
      ]
    }
  ]
}